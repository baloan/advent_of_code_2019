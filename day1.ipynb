{
 "cells": [
  {
   "cell_type": "code",
   "execution_count": 5,
   "metadata": {},
   "outputs": [],
   "source": [
    "import math"
   ]
  },
  {
   "cell_type": "markdown",
   "metadata": {},
   "source": [
    "calculate mass for one example"
   ]
  },
  {
   "cell_type": "code",
   "execution_count": 10,
   "metadata": {},
   "outputs": [],
   "source": [
    "mass = 100963\n",
    "fuel = math.floor(mass/3)-2"
   ]
  },
  {
   "cell_type": "code",
   "execution_count": 11,
   "metadata": {},
   "outputs": [
    {
     "data": {
      "text/plain": [
       "33652"
      ]
     },
     "execution_count": 11,
     "metadata": {},
     "output_type": "execute_result"
    }
   ],
   "source": [
    "fuel"
   ]
  },
  {
   "cell_type": "code",
   "execution_count": 13,
   "metadata": {},
   "outputs": [],
   "source": [
    "def calc_fuel(mass):\n",
    "    fuel = math.floor(mass/3)-2\n",
    "    return fuel"
   ]
  },
  {
   "cell_type": "code",
   "execution_count": 14,
   "metadata": {},
   "outputs": [
    {
     "name": "stdout",
     "output_type": "stream",
     "text": [
      "33652\n"
     ]
    }
   ],
   "source": [
    "print(calc_fuel(100963))"
   ]
  },
  {
   "cell_type": "code",
   "execution_count": 16,
   "metadata": {},
   "outputs": [
    {
     "name": "stdout",
     "output_type": "stream",
     "text": [
      "97587 32527\n",
      "100963 33652\n",
      "85693 28562\n",
      "127587 42527\n",
      "147839 49277\n"
     ]
    }
   ],
   "source": [
    "for m in modules:\n",
    "    print(m, calc_fuel(m))"
   ]
  },
  {
   "cell_type": "code",
   "execution_count": 23,
   "metadata": {},
   "outputs": [
    {
     "name": "stdout",
     "output_type": "stream",
     "text": [
      "3560353\n"
     ]
    }
   ],
   "source": [
    "tfr = 0 \n",
    "for m in open(\"day1_input.txt\", \"r\"):\n",
    "    n = int(m.strip())\n",
    "    tfr += calc_fuel(n)\n",
    "print(tfr)"
   ]
  },
  {
   "cell_type": "code",
   "execution_count": 26,
   "metadata": {},
   "outputs": [],
   "source": [
    "def calc_fuel2(mass):\n",
    "    total_fuel = fuel = math.floor(mass/3)-2\n",
    "    while fuel > 0:\n",
    "        fuel = math.floor(fuel/3)-2\n",
    "        if fuel > 0:\n",
    "            total_fuel += fuel\n",
    "    return total_fuel"
   ]
  },
  {
   "cell_type": "code",
   "execution_count": 28,
   "metadata": {},
   "outputs": [
    {
     "name": "stdout",
     "output_type": "stream",
     "text": [
      "5337642\n"
     ]
    }
   ],
   "source": [
    "tfr = 0 \n",
    "for m in open(\"day1_input.txt\", \"r\"):\n",
    "    n = int(m.strip())\n",
    "    tfr += calc_fuel2(n)\n",
    "print(tfr)"
   ]
  }
 ],
 "metadata": {
  "kernelspec": {
   "display_name": "Python 3",
   "language": "python",
   "name": "python3"
  },
  "language_info": {
   "codemirror_mode": {
    "name": "ipython",
    "version": 3
   },
   "file_extension": ".py",
   "mimetype": "text/x-python",
   "name": "python",
   "nbconvert_exporter": "python",
   "pygments_lexer": "ipython3",
   "version": "3.7.4"
  }
 },
 "nbformat": 4,
 "nbformat_minor": 2
}
